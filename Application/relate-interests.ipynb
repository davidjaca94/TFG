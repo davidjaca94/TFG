{
 "cells": [
  {
   "cell_type": "code",
   "execution_count": null,
   "metadata": {
    "collapsed": true
   },
   "outputs": [],
   "source": [
    "# Dependencias\n",
    "\n",
    "import os\n",
    "import io\n",
    "import re\n",
    "import json\n",
    "import time\n",
    "import numpy\n",
    "import unidecode\n",
    "from glob import glob\n",
    "from operator import itemgetter\n",
    "from functools import lru_cache"
   ]
  },
  {
   "cell_type": "code",
   "execution_count": null,
   "metadata": {
    "collapsed": true
   },
   "outputs": [],
   "source": [
    "# Funciones generales\n",
    "\n",
    "def get_config(key):\n",
    "    jsonfile = open('config.json').read()\n",
    "    config = json.loads(jsonfile)\n",
    "    if key in config:\n",
    "        return config[key]\n",
    "\n",
    "def read_json(filepath):\n",
    "    jsonfile = io.open(filepath, encoding='utf8').read()\n",
    "    return json.loads(jsonfile)\n",
    "\n",
    "def save_json(filepath, content):\n",
    "    path = os.path.dirname(filepath)\n",
    "    if path: os.makedirs(path, exist_ok=True)\n",
    "    jsonfile = io.open(filepath, 'w', encoding='utf8')\n",
    "    jsoncontent = json.dumps(content, ensure_ascii=False)\n",
    "    jsonfile.write(jsoncontent)\n",
    "    jsonfile.close()"
   ]
  },
  {
   "cell_type": "code",
   "execution_count": null,
   "metadata": {
    "collapsed": true
   },
   "outputs": [],
   "source": [
    "# Funciones para recuperar los intereses obtenidos\n",
    "\n",
    "def list_users_obtained():\n",
    "    users = []\n",
    "    files = glob(\"data\\\\interests\\\\*\")\n",
    "    for file in files:\n",
    "        user = re.search('.*\\\\\\\\\\d*@(.*)\\.json', file).groups()[0]\n",
    "        users.append(user)\n",
    "    return users\n",
    "\n",
    "def path_interests(user_nick):\n",
    "    folders = glob(\"data\\\\interests\\\\*@%s.json\" % user_nick)\n",
    "    if (len(folders) == 0):\n",
    "        return None\n",
    "    else:\n",
    "        return folders[0]\n",
    "\n",
    "def load_interests(user):\n",
    "    filepath = path_interests(user)\n",
    "    interests = read_json(filepath)\n",
    "    return interests"
   ]
  },
  {
   "cell_type": "code",
   "execution_count": null,
   "metadata": {
    "collapsed": true
   },
   "outputs": [],
   "source": [
    "# Funciones para trabajar con las relaciones\n",
    "\n",
    "@lru_cache(maxsize=None)\n",
    "def load_relations():\n",
    "    ficheroentrada = open('data\\\\relations\\\\wikidata_relevant.json', 'r').read()\n",
    "    relations = json.loads(ficheroentrada)\n",
    "    return relations\n",
    "\n",
    "def indirect_relation1(interest1, interest2):\n",
    "    all_relations = load_relations()\n",
    "    if (interest1 in all_relations):\n",
    "        relations = all_relations[interest1]\n",
    "        if (interest2 in relations):\n",
    "            return True\n",
    "    if (interest2 in all_relations):\n",
    "        relations = all_relations[interest2]\n",
    "        if (interest1 in relations):\n",
    "            return True\n",
    "    return False\n",
    "\n",
    "def indirect_relation2(interest1, interest2):\n",
    "    all_relations = load_relations()\n",
    "    if (interest1 in all_relations) and (interest2 in all_relations):\n",
    "        relations1 = all_relations[interest1]\n",
    "        relations2 = all_relations[interest2]\n",
    "        coincidences = set(relations1).intersection(relations2)\n",
    "        if (len(coincidences) > 0):\n",
    "            return True\n",
    "    return False"
   ]
  },
  {
   "cell_type": "code",
   "execution_count": null,
   "metadata": {
    "collapsed": true
   },
   "outputs": [],
   "source": [
    "# Funciones para trabajar con los intereses\n",
    "\n",
    "def summatory_property(interests, key):\n",
    "    summatory = 0\n",
    "    for interest in interests:\n",
    "        summatory += interest[key]\n",
    "    return summatory\n",
    "\n",
    "#@lru_cache(maxsize=1000000) # Como crece indefinidamente hay que fijar un limite de llamadas, pero depende del hardware...\n",
    "def interests_proximity(interest1, interest2):\n",
    "    if (interest1 == interest2):\n",
    "        return 1.00\n",
    "    elif indirect_relation1(interest1, interest2):\n",
    "        return 0.75\n",
    "    elif indirect_relation2(interest1, interest2):\n",
    "        return 0.50\n",
    "    else:\n",
    "        return 0.00"
   ]
  },
  {
   "cell_type": "code",
   "execution_count": null,
   "metadata": {
    "collapsed": true
   },
   "outputs": [],
   "source": [
    "# Funciones para trabajar con las afinidades obtenidos de las relaciones\n",
    "\n",
    "def path_affinities(user):\n",
    "    return path_interests(user).replace(\"interests\", \"affinities\")\n",
    "\n",
    "def save_affinities(affinities, user):\n",
    "    affinities = sorted(affinities, key=itemgetter('weight'), reverse = True)\n",
    "    filepath = path_affinities(user)\n",
    "    save_json(filepath, affinities)\n",
    "\n",
    "def load_affinities(user):\n",
    "    filepath = path_affinities(user)\n",
    "    affinities = read_json(filepath)\n",
    "    return affinities"
   ]
  },
  {
   "cell_type": "code",
   "execution_count": null,
   "metadata": {
    "collapsed": true
   },
   "outputs": [],
   "source": [
    "# Funciones de alto nivel para procesar las cuentas de los usuarios\n",
    "\n",
    "def calculate_affinity(user_of_interest, user_to_compare):\n",
    "    interests_user1 = load_interests(user_of_interest)\n",
    "    interests_user2 = load_interests(user_to_compare)\n",
    "    for interest_user1 in interests_user1:\n",
    "        proximities = []\n",
    "        for interest_user2 in interests_user2:\n",
    "            min_weight = min(interest_user1['weight'], interest_user2['weight'])\n",
    "            proximities.append(min_weight * interests_proximity(interest_user2['entity'], interest_user1['entity']))\n",
    "        interest_user1['proximity'] = max(proximities)\n",
    "    interests_user1 = sorted(interests_user1, key=itemgetter('proximity'), reverse = True)\n",
    "    affinity = summatory_property(interests_user1, 'proximity')\n",
    "    self_affinity = summatory_property(interests_user1, 'weight')\n",
    "    relative_affinity = affinity / self_affinity\n",
    "    return relative_affinity, interests_user1\n",
    "\n",
    "def cross_all_users():\n",
    "    users = list_users_obtained()\n",
    "    matrix = numpy.zeros((len(users), len(users)))\n",
    "    for index1, user1 in enumerate(users):\n",
    "        affinities = []\n",
    "        for index2, user2 in enumerate(users):\n",
    "            affinity = calculate_affinity(user1, user2)[0]\n",
    "            print('@'+user1, '-->', '@'+user2, affinity)\n",
    "            matrix[index1][index2] = round(affinity, 2)\n",
    "            affinities.append({'user': user2, 'weight': affinity})\n",
    "        save_affinities(affinities, user1)\n",
    "    return matrix"
   ]
  },
  {
   "cell_type": "code",
   "execution_count": null,
   "metadata": {
    "scrolled": true
   },
   "outputs": [],
   "source": [
    "# Probamos a calcular la afinidad entre dos usuarios cualesquiera\n",
    "\n",
    "t0 = time.time()\n",
    "affinity, interests = calculate_affinity(\"BarackObama\", \"realDonaldTrump\")\n",
    "print(time.time()-t0, 'seconds') # La primera vez cuesta mas porque carga el diccionario de relaciones en memoria\n",
    "\n",
    "print(affinity)\n",
    "interests"
   ]
  },
  {
   "cell_type": "code",
   "execution_count": null,
   "metadata": {
    "scrolled": true
   },
   "outputs": [],
   "source": [
    "t0 = time.time()\n",
    "\n",
    "print(cross_all_users()) # Probamos a calcular la afinidad entre todos los usuarios\n",
    "# Se debería obtener una matriz con unos en la diagonal principal porque la afinidad con uno mismo es máxima\n",
    "# Si la matriz tiende a ser simétrica respecto a la diagonal principal quiere decir que la afinidad es correspondida\n",
    "\n",
    "print(time.time()-t0, 'seconds')"
   ]
  }
 ],
 "metadata": {
  "kernelspec": {
   "display_name": "Python [conda env:tfg]",
   "language": "python",
   "name": "conda-env-tfg-py"
  },
  "language_info": {
   "codemirror_mode": {
    "name": "ipython",
    "version": 3
   },
   "file_extension": ".py",
   "mimetype": "text/x-python",
   "name": "python",
   "nbconvert_exporter": "python",
   "pygments_lexer": "ipython3",
   "version": "3.6.5"
  }
 },
 "nbformat": 4,
 "nbformat_minor": 2
}
