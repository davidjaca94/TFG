{
 "cells": [
  {
   "cell_type": "code",
   "execution_count": null,
   "metadata": {
    "collapsed": true
   },
   "outputs": [],
   "source": [
    "import json"
   ]
  },
  {
   "cell_type": "code",
   "execution_count": null,
   "metadata": {
    "collapsed": true
   },
   "outputs": [],
   "source": [
    "def recover(file_path):\n",
    "    ficheroentrada = open(file_path, 'r').read()\n",
    "    items = json.loads(ficheroentrada)\n",
    "    return items\n",
    "\n",
    "def merge(items1, items2):\n",
    "    items = items1\n",
    "    for item in items2:\n",
    "        if (item in items):\n",
    "            items[item].extend(items2[item])\n",
    "            items[item] = list(set(items[item]))\n",
    "        else:\n",
    "            items[item] = items2[item]\n",
    "    return items\n",
    "\n",
    "def save(items, file_path):\n",
    "    ficherosalida = open(file_path, \"w+\")\n",
    "    ficherosalida.write('{\\n')\n",
    "    ficherosalida.write(',\\n'.join([json.dumps({item: items[item]})[1:-1] for item in items]))\n",
    "    ficherosalida.write('\\n}')\n",
    "    ficherosalida.close()"
   ]
  },
  {
   "cell_type": "code",
   "execution_count": null,
   "metadata": {
    "collapsed": true
   },
   "outputs": [],
   "source": [
    "items_en = recover('all_wikidata_reordered_extended_clean_en.json')\n",
    "items_es = recover('all_wikidata_reordered_extended_clean_es.json')\n",
    "items = merge(items_en, items_es)\n",
    "save(items, 'all_wikidata_reordered_extended_clean_merged.json')"
   ]
  },
  {
   "cell_type": "code",
   "execution_count": null,
   "metadata": {},
   "outputs": [],
   "source": [
    "count = 0\n",
    "for item in items:\n",
    "    count += 1\n",
    "print(count)"
   ]
  },
  {
   "cell_type": "code",
   "execution_count": null,
   "metadata": {},
   "outputs": [],
   "source": [
    "items['Facebook']"
   ]
  }
 ],
 "metadata": {
  "kernelspec": {
   "display_name": "Python [conda env:tfg]",
   "language": "python",
   "name": "conda-env-tfg-py"
  },
  "language_info": {
   "codemirror_mode": {
    "name": "ipython",
    "version": 3
   },
   "file_extension": ".py",
   "mimetype": "text/x-python",
   "name": "python",
   "nbconvert_exporter": "python",
   "pygments_lexer": "ipython3",
   "version": "3.6.5"
  }
 },
 "nbformat": 4,
 "nbformat_minor": 2
}
