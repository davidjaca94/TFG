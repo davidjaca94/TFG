{
 "cells": [
  {
   "cell_type": "code",
   "execution_count": null,
   "metadata": {
    "collapsed": true
   },
   "outputs": [],
   "source": [
    "import json"
   ]
  },
  {
   "cell_type": "code",
   "execution_count": null,
   "metadata": {
    "collapsed": true
   },
   "outputs": [],
   "source": [
    "def join_duplicate_keys(ordered_pairs):\n",
    "    d = {}\n",
    "    for k, v in ordered_pairs:\n",
    "        if (k in d):\n",
    "           d[k].extend(v)\n",
    "        else:\n",
    "           d[k] = v\n",
    "    return d\n",
    "\n",
    "def quit_redundant_relations(entity, relations):\n",
    "    relations = list(set(relations))\n",
    "    if (entity in relations): relations.remove(entity)\n",
    "    return relations        "
   ]
  },
  {
   "cell_type": "code",
   "execution_count": null,
   "metadata": {
    "collapsed": true
   },
   "outputs": [],
   "source": [
    "def recover(file_path):\n",
    "    ficheroentrada = open(file_path, 'r').read()\n",
    "    items = json.loads(ficheroentrada, object_pairs_hook=join_duplicate_keys)\n",
    "    return items\n",
    "\n",
    "def clean(items):\n",
    "    for item in items:\n",
    "        items[item] = quit_redundant_relations(item, items[item])\n",
    "    return items\n",
    "\n",
    "def save(items, file_path):\n",
    "    ficherosalida = open(file_path, \"w+\")\n",
    "    ficherosalida.write('{\\n')\n",
    "    ficherosalida.write(',\\n'.join([json.dumps({item: items[item]})[1:-1] for item in items]))\n",
    "    ficherosalida.write('\\n}')\n",
    "    ficherosalida.close()"
   ]
  },
  {
   "cell_type": "code",
   "execution_count": null,
   "metadata": {
    "collapsed": true
   },
   "outputs": [],
   "source": [
    "items = recover('all_wikidata_reordered_extended_en.json')\n",
    "items = clean(items)\n",
    "save(items, 'all_wikidata_reordered_extended_clean_en.json')\n",
    "\n",
    "items = recover('all_wikidata_reordered_extended_es.json')\n",
    "items = clean(items)\n",
    "save(items, 'all_wikidata_reordered_extended_clean_es.json')"
   ]
  },
  {
   "cell_type": "code",
   "execution_count": null,
   "metadata": {},
   "outputs": [],
   "source": [
    "count = 0\n",
    "for item in items:\n",
    "    count += 1\n",
    "print(count)"
   ]
  },
  {
   "cell_type": "code",
   "execution_count": null,
   "metadata": {},
   "outputs": [],
   "source": [
    "items['Facebook']"
   ]
  }
 ],
 "metadata": {
  "kernelspec": {
   "display_name": "Python [conda env:tfg]",
   "language": "python",
   "name": "conda-env-tfg-py"
  },
  "language_info": {
   "codemirror_mode": {
    "name": "ipython",
    "version": 3
   },
   "file_extension": ".py",
   "mimetype": "text/x-python",
   "name": "python",
   "nbconvert_exporter": "python",
   "pygments_lexer": "ipython3",
   "version": "3.6.5"
  }
 },
 "nbformat": 4,
 "nbformat_minor": 2
}
